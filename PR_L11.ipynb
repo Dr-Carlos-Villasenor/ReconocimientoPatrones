{
  "nbformat": 4,
  "nbformat_minor": 0,
  "metadata": {
    "colab": {
      "name": "PR_L11.ipynb",
      "provenance": [],
      "authorship_tag": "ABX9TyMm1trPFPum4wSUX6CgcnXb",
      "include_colab_link": true
    },
    "kernelspec": {
      "name": "python3",
      "display_name": "Python 3"
    }
  },
  "cells": [
    {
      "cell_type": "markdown",
      "metadata": {
        "id": "view-in-github",
        "colab_type": "text"
      },
      "source": [
        "<a href=\"https://colab.research.google.com/github/Dr-Carlos-Villasenor/ReconocimientoPatrones/blob/master/PR_L11.ipynb\" target=\"_parent\"><img src=\"https://colab.research.google.com/assets/colab-badge.svg\" alt=\"Open In Colab\"/></a>"
      ]
    },
    {
      "cell_type": "markdown",
      "metadata": {
        "id": "tgPHJXYPa2GP",
        "colab_type": "text"
      },
      "source": [
        "#Reconocimiento de Patrones\n",
        "##Dr. Carlos Villaseñor\n",
        "##Lección 11 - Sistemas de recomendación"
      ]
    },
    {
      "cell_type": "markdown",
      "metadata": {
        "id": "pAGcVF56a9Ag",
        "colab_type": "text"
      },
      "source": [
        "para está practica instalaremos Surprise"
      ]
    },
    {
      "cell_type": "code",
      "metadata": {
        "id": "U_gMzrnTJZS5",
        "colab_type": "code",
        "colab": {}
      },
      "source": [
        "!pip install surprise"
      ],
      "execution_count": null,
      "outputs": []
    },
    {
      "cell_type": "code",
      "metadata": {
        "id": "gY8Hw22LUdv-",
        "colab_type": "code",
        "colab": {
          "base_uri": "https://localhost:8080/",
          "height": 53
        },
        "outputId": "1775d68a-4a24-44b8-f7b1-4b208b98c0dc"
      },
      "source": [
        "from surprise import SVD\n",
        "from surprise import Dataset\n",
        "from surprise import accuracy\n",
        "from surprise.model_selection import train_test_split\n",
        "\n",
        "# Load the movielens-100k dataset (download it if needed),\n",
        "data = Dataset.load_builtin('ml-100k')\n",
        "\n",
        "# sample random trainset and testset\n",
        "# test set is made of 25% of the ratings.\n",
        "trainset, testset = train_test_split(data, test_size=.25)\n",
        "\n",
        "# We'll use the famous SVD algorithm.\n",
        "algo = SVD()\n",
        "\n",
        "# Train the algorithm on the trainset, and predict ratings for the testset\n",
        "algo.fit(trainset)\n",
        "predictions = algo.test(testset)\n",
        "\n",
        "# Then compute RMSE\n",
        "accuracy.rmse(predictions)"
      ],
      "execution_count": 4,
      "outputs": [
        {
          "output_type": "stream",
          "text": [
            "RMSE: 0.9297\n"
          ],
          "name": "stdout"
        },
        {
          "output_type": "execute_result",
          "data": {
            "text/plain": [
              "0.9297192680145676"
            ]
          },
          "metadata": {
            "tags": []
          },
          "execution_count": 4
        }
      ]
    },
    {
      "cell_type": "markdown",
      "metadata": {
        "id": "uyHvqfJRgVl_",
        "colab_type": "text"
      },
      "source": [
        "Predicción"
      ]
    },
    {
      "cell_type": "code",
      "metadata": {
        "id": "JGN1bH5yUtNm",
        "colab_type": "code",
        "colab": {
          "base_uri": "https://localhost:8080/",
          "height": 55
        },
        "outputId": "c3274a03-89f7-4329-e432-b3b3c0f07f0d"
      },
      "source": [
        "uid = str(24)\n",
        "iid = str(7210) \n",
        "\n",
        "# get a prediction for specific users and items.\n",
        "pred = algo.predict(uid, iid, verbose=True)"
      ],
      "execution_count": 23,
      "outputs": [
        {
          "output_type": "stream",
          "text": [
            "user: 24         item: 7210       r_ui = None   est = 4.06   {'was_impossible': False}\n"
          ],
          "name": "stdout"
        }
      ]
    },
    {
      "cell_type": "markdown",
      "metadata": {
        "id": "Bu_vF1c_gSBP",
        "colab_type": "text"
      },
      "source": [
        "Usando nuestros datos"
      ]
    },
    {
      "cell_type": "code",
      "metadata": {
        "id": "G7e3QXVkfYCu",
        "colab_type": "code",
        "colab": {
          "base_uri": "https://localhost:8080/",
          "height": 92
        },
        "outputId": "284844e5-b054-4eea-8369-ffee34e976e2"
      },
      "source": [
        "import pandas as pd\n",
        "from surprise import Dataset\n",
        "from surprise import Reader\n",
        "from surprise.model_selection import cross_validate\n",
        "\n",
        "\n",
        "# Creation of the dataframe. Column names are irrelevant.\n",
        "ratings_dict = {'itemID': [1, 1, 1, 2, 2],\n",
        "                'userID': [9, 32, 2, 45, 'user_foo'],\n",
        "                'rating': [3, 2, 4, 3, 1]}\n",
        "df = pd.DataFrame(ratings_dict)\n",
        "\n",
        "# A reader is still needed but only the rating_scale param is requiered.\n",
        "reader = Reader(rating_scale=(1, 5))\n",
        "\n",
        "# The columns must correspond to user id, item id and ratings (in that order).\n",
        "data = Dataset.load_from_df(df[['userID', 'itemID', 'rating']], reader)\n",
        "trainset, testset = train_test_split(data, test_size=.25)\n",
        "\n",
        "algo2 = SVD()\n",
        "algo2.fit(trainset)\n",
        "\n",
        "algo.test(testset)\n",
        "\n",
        "print(accuracy.rmse(predictions))\n",
        "\n",
        "uid = str(32)\n",
        "iid = str(2) \n",
        "\n",
        "# get a prediction for specific users and items.\n",
        "pred = algo.predict(uid, iid, verbose=True)"
      ],
      "execution_count": 36,
      "outputs": [
        {
          "output_type": "stream",
          "text": [
            "RMSE: 0.9297\n",
            "0.9297192680145676\n",
            "user: 32         item: 2          r_ui = None   est = 3.11   {'was_impossible': False}\n"
          ],
          "name": "stdout"
        }
      ]
    }
  ]
}